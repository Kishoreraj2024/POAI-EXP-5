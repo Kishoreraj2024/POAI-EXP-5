{
  "nbformat": 4,
  "nbformat_minor": 0,
  "metadata": {
    "colab": {
      "provenance": [],
      "authorship_tag": "ABX9TyP7Ubtx57ILFxyWZDO6Hmgb",
      "include_colab_link": true
    },
    "kernelspec": {
      "name": "python3",
      "display_name": "Python 3"
    },
    "language_info": {
      "name": "python"
    }
  },
  "cells": [
    {
      "cell_type": "markdown",
      "metadata": {
        "id": "view-in-github",
        "colab_type": "text"
      },
      "source": [
        "<a href=\"https://colab.research.google.com/github/Kishoreraj2024/POAI-EXP-5/blob/main/POAI_EXP_5ipynb.ipynb\" target=\"_parent\"><img src=\"https://colab.research.google.com/assets/colab-badge.svg\" alt=\"Open In Colab\"/></a>"
      ]
    },
    {
      "cell_type": "code",
      "source": [
        "def minimax(node, is_max):\n",
        "    # Base case: leaf node\n",
        "    if isinstance(node, int):\n",
        "        return node\n",
        "\n",
        "    # Recursively evaluate all children\n",
        "    children_scores = [minimax(child, not is_max) for child in node]\n",
        "\n",
        "    # Return max or min value depending on the player\n",
        "    return max(children_scores) if is_max else min(children_scores)\n",
        "\n",
        "# Example Game Tree\n",
        "# Represented as nested lists (like Prolog tree terms)\n",
        "# Root is MAX node\n",
        "game_tree = [\n",
        "    [3, 5, 2],       # MIN level -> MIN(3,5,2) = 2\n",
        "    [9, 1, 4],       # MIN level -> MIN(9,1,4) = 1\n",
        "    [8, 6]           # MIN level -> MIN(8,6)   = 6\n",
        "]\n",
        "\n",
        "# Run Minimax from root\n",
        "best_value = minimax(game_tree, is_max=True)\n",
        "print(\"Best value for MAX:\",best_value)"
      ],
      "metadata": {
        "colab": {
          "base_uri": "https://localhost:8080/"
        },
        "id": "gE6C5Jc5Dlag",
        "outputId": "e7b6a7c6-71e0-4f98-db26-fa64f0abe9eb"
      },
      "execution_count": 26,
      "outputs": [
        {
          "output_type": "stream",
          "name": "stdout",
          "text": [
            "Best value for MAX: 6\n"
          ]
        }
      ]
    }
  ]
}